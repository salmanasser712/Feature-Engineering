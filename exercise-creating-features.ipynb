{
 "cells": [
  {
   "cell_type": "markdown",
   "id": "d3391c73",
   "metadata": {
    "papermill": {
     "duration": 0.007734,
     "end_time": "2022-06-30T16:53:18.075980",
     "exception": false,
     "start_time": "2022-06-30T16:53:18.068246",
     "status": "completed"
    },
    "tags": []
   },
   "source": [
    "**This notebook is an exercise in the [Feature Engineering](https://www.kaggle.com/learn/feature-engineering) course.  You can reference the tutorial at [this link](https://www.kaggle.com/ryanholbrook/creating-features).**\n",
    "\n",
    "---\n"
   ]
  },
  {
   "cell_type": "markdown",
   "id": "2f12ce3a",
   "metadata": {
    "papermill": {
     "duration": 0.006485,
     "end_time": "2022-06-30T16:53:18.089537",
     "exception": false,
     "start_time": "2022-06-30T16:53:18.083052",
     "status": "completed"
    },
    "tags": []
   },
   "source": [
    "# Introduction #\n",
    "\n",
    "In this exercise you'll start developing the features you identified in Exercise 2 as having the most potential. As you work through this exercise, you might take a moment to look at the data documentation again and consider whether the features we're creating make sense from a real-world perspective, and whether there are any useful combinations that stand out to you.\n",
    "\n",
    "Run this cell to set everything up!"
   ]
  },
  {
   "cell_type": "code",
   "execution_count": 1,
   "id": "913f7356",
   "metadata": {
    "execution": {
     "iopub.execute_input": "2022-06-30T16:53:18.107131Z",
     "iopub.status.busy": "2022-06-30T16:53:18.105715Z",
     "iopub.status.idle": "2022-06-30T16:53:19.888035Z",
     "shell.execute_reply": "2022-06-30T16:53:19.886419Z"
    },
    "papermill": {
     "duration": 1.794542,
     "end_time": "2022-06-30T16:53:19.891265",
     "exception": false,
     "start_time": "2022-06-30T16:53:18.096723",
     "status": "completed"
    },
    "tags": []
   },
   "outputs": [],
   "source": [
    "# Setup feedback system\n",
    "from learntools.core import binder\n",
    "binder.bind(globals())\n",
    "from learntools.feature_engineering_new.ex3 import *\n",
    "\n",
    "import numpy as np\n",
    "import pandas as pd\n",
    "from sklearn.model_selection import cross_val_score\n",
    "from xgboost import XGBRegressor\n",
    "\n",
    "\n",
    "def score_dataset(X, y, model=XGBRegressor()):\n",
    "    # Label encoding for categoricals\n",
    "    for colname in X.select_dtypes([\"category\", \"object\"]):\n",
    "        X[colname], _ = X[colname].factorize()\n",
    "    # Metric for Housing competition is RMSLE (Root Mean Squared Log Error)\n",
    "    score = cross_val_score(\n",
    "        model, X, y, cv=5, scoring=\"neg_mean_squared_log_error\",\n",
    "    )\n",
    "    score = -1 * score.mean()\n",
    "    score = np.sqrt(score)\n",
    "    return score\n",
    "\n",
    "\n",
    "# Prepare data\n",
    "df = pd.read_csv(\"../input/fe-course-data/ames.csv\")\n",
    "X = df.copy()\n",
    "y = X.pop(\"SalePrice\")"
   ]
  },
  {
   "cell_type": "markdown",
   "id": "f5eaf4ce",
   "metadata": {
    "papermill": {
     "duration": 0.006426,
     "end_time": "2022-06-30T16:53:19.904577",
     "exception": false,
     "start_time": "2022-06-30T16:53:19.898151",
     "status": "completed"
    },
    "tags": []
   },
   "source": [
    "-------------------------------------------------------------------------------\n",
    "\n",
    "Let's start with a few mathematical combinations. We'll focus on features describing areas -- having the same units (square-feet) makes it easy to combine them in sensible ways. Since we're using XGBoost (a tree-based model), we'll focus on ratios and sums.\n",
    "\n",
    "# 1) Create Mathematical Transforms\n",
    "\n",
    "Create the following features:\n",
    "\n",
    "- `LivLotRatio`: the ratio of `GrLivArea` to `LotArea`\n",
    "- `Spaciousness`: the sum of `FirstFlrSF` and `SecondFlrSF` divided by `TotRmsAbvGrd`\n",
    "- `TotalOutsideSF`: the sum of `WoodDeckSF`, `OpenPorchSF`, `EnclosedPorch`, `Threeseasonporch`, and `ScreenPorch`"
   ]
  },
  {
   "cell_type": "code",
   "execution_count": 2,
   "id": "735d0889",
   "metadata": {
    "execution": {
     "iopub.execute_input": "2022-06-30T16:53:19.919727Z",
     "iopub.status.busy": "2022-06-30T16:53:19.919260Z",
     "iopub.status.idle": "2022-06-30T16:53:19.958738Z",
     "shell.execute_reply": "2022-06-30T16:53:19.957244Z"
    },
    "lines_to_next_cell": 0,
    "papermill": {
     "duration": 0.050395,
     "end_time": "2022-06-30T16:53:19.961459",
     "exception": false,
     "start_time": "2022-06-30T16:53:19.911064",
     "status": "completed"
    },
    "tags": []
   },
   "outputs": [
    {
     "data": {
      "application/javascript": [
       "parent.postMessage({\"jupyterEvent\": \"custom.exercise_interaction\", \"data\": {\"outcomeType\": 1, \"valueTowardsCompletion\": 0.2, \"interactionType\": 1, \"questionType\": 2, \"questionId\": \"1_Q1\", \"learnToolsVersion\": \"0.3.4\", \"failureMessage\": \"\", \"exceptionClass\": \"\", \"trace\": \"\"}}, \"*\")"
      ],
      "text/plain": [
       "<IPython.core.display.Javascript object>"
      ]
     },
     "metadata": {},
     "output_type": "display_data"
    },
    {
     "data": {
      "text/markdown": [
       "<span style=\"color:#33cc33\">Correct</span>"
      ],
      "text/plain": [
       "Correct"
      ]
     },
     "metadata": {},
     "output_type": "display_data"
    }
   ],
   "source": [
    "# YOUR CODE HERE\n",
    "X_1 = pd.DataFrame()  # dataframe to hold new features\n",
    "\n",
    "X_1[\"LivLotRatio\"] = X[\"GrLivArea\"] / X[\"LotArea\"]\n",
    "X_1[\"Spaciousness\"] = (X[\"FirstFlrSF\"] + X[\"SecondFlrSF\"]) / X[\"TotRmsAbvGrd\"]\n",
    "X_1[\"TotalOutsideSF\"] = X[[\"WoodDeckSF\", \"OpenPorchSF\", \"EnclosedPorch\", \"Threeseasonporch\", \"ScreenPorch\"]].sum(axis=1)\n",
    "\n",
    "\n",
    "# Check your answer\n",
    "q_1.check()"
   ]
  },
  {
   "cell_type": "code",
   "execution_count": 3,
   "id": "3b2b3b45",
   "metadata": {
    "execution": {
     "iopub.execute_input": "2022-06-30T16:53:19.977538Z",
     "iopub.status.busy": "2022-06-30T16:53:19.977040Z",
     "iopub.status.idle": "2022-06-30T16:53:19.982511Z",
     "shell.execute_reply": "2022-06-30T16:53:19.981178Z"
    },
    "lines_to_next_cell": 0,
    "papermill": {
     "duration": 0.016179,
     "end_time": "2022-06-30T16:53:19.984977",
     "exception": false,
     "start_time": "2022-06-30T16:53:19.968798",
     "status": "completed"
    },
    "tags": []
   },
   "outputs": [],
   "source": [
    "# Lines below will give you a hint or solution code\n",
    "#q_1.hint()\n",
    "#q_1.solution()"
   ]
  },
  {
   "cell_type": "markdown",
   "id": "62d5f573",
   "metadata": {
    "papermill": {
     "duration": 0.006383,
     "end_time": "2022-06-30T16:53:19.997869",
     "exception": false,
     "start_time": "2022-06-30T16:53:19.991486",
     "status": "completed"
    },
    "tags": []
   },
   "source": [
    "-------------------------------------------------------------------------------\n",
    "\n",
    "If you've discovered an interaction effect between a numeric feature and a categorical feature, you might want to model it explicitly using a one-hot encoding, like so:\n",
    "\n",
    "```\n",
    "# One-hot encode Categorical feature, adding a column prefix \"Cat\"\n",
    "X_new = pd.get_dummies(df.Categorical, prefix=\"Cat\")\n",
    "\n",
    "# Multiply row-by-row\n",
    "X_new = X_new.mul(df.Continuous, axis=0)\n",
    "\n",
    "# Join the new features to the feature set\n",
    "X = X.join(X_new)\n",
    "```\n",
    "\n",
    "# 2) Interaction with a Categorical\n",
    "\n",
    "We discovered an interaction between `BldgType` and `GrLivArea` in Exercise 2. Now create their interaction features."
   ]
  },
  {
   "cell_type": "code",
   "execution_count": 4,
   "id": "1c692f16",
   "metadata": {
    "execution": {
     "iopub.execute_input": "2022-06-30T16:53:20.014386Z",
     "iopub.status.busy": "2022-06-30T16:53:20.013250Z",
     "iopub.status.idle": "2022-06-30T16:53:20.032308Z",
     "shell.execute_reply": "2022-06-30T16:53:20.031131Z"
    },
    "lines_to_next_cell": 0,
    "papermill": {
     "duration": 0.030063,
     "end_time": "2022-06-30T16:53:20.034707",
     "exception": false,
     "start_time": "2022-06-30T16:53:20.004644",
     "status": "completed"
    },
    "tags": []
   },
   "outputs": [
    {
     "data": {
      "application/javascript": [
       "parent.postMessage({\"jupyterEvent\": \"custom.exercise_interaction\", \"data\": {\"outcomeType\": 1, \"valueTowardsCompletion\": 0.2, \"interactionType\": 1, \"questionType\": 2, \"questionId\": \"2_Q2\", \"learnToolsVersion\": \"0.3.4\", \"failureMessage\": \"\", \"exceptionClass\": \"\", \"trace\": \"\"}}, \"*\")"
      ],
      "text/plain": [
       "<IPython.core.display.Javascript object>"
      ]
     },
     "metadata": {},
     "output_type": "display_data"
    },
    {
     "data": {
      "text/markdown": [
       "<span style=\"color:#33cc33\">Correct</span>"
      ],
      "text/plain": [
       "Correct"
      ]
     },
     "metadata": {},
     "output_type": "display_data"
    }
   ],
   "source": [
    "# YOUR CODE HERE\n",
    "# One-hot encode BldgType. Use `prefix=\"Bldg\"` in `get_dummies`\n",
    "X_2 = pd.get_dummies(X['BldgType'], prefix=\"Bldg\")\n",
    "# Multiply\n",
    "X_2 = X_2.mul(X['GrLivArea'], axis=0)\n",
    "\n",
    "\n",
    "# Check your answer\n",
    "q_2.check()"
   ]
  },
  {
   "cell_type": "code",
   "execution_count": 5,
   "id": "cafb417b",
   "metadata": {
    "execution": {
     "iopub.execute_input": "2022-06-30T16:53:20.050574Z",
     "iopub.status.busy": "2022-06-30T16:53:20.050086Z",
     "iopub.status.idle": "2022-06-30T16:53:20.055990Z",
     "shell.execute_reply": "2022-06-30T16:53:20.054470Z"
    },
    "lines_to_next_cell": 0,
    "papermill": {
     "duration": 0.017416,
     "end_time": "2022-06-30T16:53:20.058950",
     "exception": false,
     "start_time": "2022-06-30T16:53:20.041534",
     "status": "completed"
    },
    "tags": []
   },
   "outputs": [],
   "source": [
    "# Lines below will give you a hint or solution code\n",
    "#q_2.hint()\n",
    "#q_2.solution()"
   ]
  },
  {
   "cell_type": "markdown",
   "id": "eae352ac",
   "metadata": {
    "lines_to_next_cell": 0,
    "papermill": {
     "duration": 0.006673,
     "end_time": "2022-06-30T16:53:20.072483",
     "exception": false,
     "start_time": "2022-06-30T16:53:20.065810",
     "status": "completed"
    },
    "tags": []
   },
   "source": [
    "# 3) Count Feature\n",
    "\n",
    "Let's try creating a feature that describes how many kinds of outdoor areas a dwelling has. Create a feature `PorchTypes` that counts how many of the following are greater than 0.0:\n",
    "\n",
    "```\n",
    "WoodDeckSF\n",
    "OpenPorchSF\n",
    "EnclosedPorch\n",
    "Threeseasonporch\n",
    "ScreenPorch\n",
    "```"
   ]
  },
  {
   "cell_type": "code",
   "execution_count": 6,
   "id": "046c3e2b",
   "metadata": {
    "execution": {
     "iopub.execute_input": "2022-06-30T16:53:20.088339Z",
     "iopub.status.busy": "2022-06-30T16:53:20.087854Z",
     "iopub.status.idle": "2022-06-30T16:53:20.108293Z",
     "shell.execute_reply": "2022-06-30T16:53:20.107447Z"
    },
    "lines_to_next_cell": 0,
    "papermill": {
     "duration": 0.031268,
     "end_time": "2022-06-30T16:53:20.110601",
     "exception": false,
     "start_time": "2022-06-30T16:53:20.079333",
     "status": "completed"
    },
    "tags": []
   },
   "outputs": [
    {
     "data": {
      "application/javascript": [
       "parent.postMessage({\"jupyterEvent\": \"custom.exercise_interaction\", \"data\": {\"outcomeType\": 1, \"valueTowardsCompletion\": 0.2, \"interactionType\": 1, \"questionType\": 2, \"questionId\": \"3_Q3\", \"learnToolsVersion\": \"0.3.4\", \"failureMessage\": \"\", \"exceptionClass\": \"\", \"trace\": \"\"}}, \"*\")"
      ],
      "text/plain": [
       "<IPython.core.display.Javascript object>"
      ]
     },
     "metadata": {},
     "output_type": "display_data"
    },
    {
     "data": {
      "text/markdown": [
       "<span style=\"color:#33cc33\">Correct</span>"
      ],
      "text/plain": [
       "Correct"
      ]
     },
     "metadata": {},
     "output_type": "display_data"
    }
   ],
   "source": [
    "X_3 = pd.DataFrame()\n",
    "\n",
    "# YOUR CODE HERE\n",
    "fet = ['WoodDeckSF', 'OpenPorchSF', 'EnclosedPorch', 'Threeseasonporch', 'ScreenPorch']\n",
    "X_3[\"PorchTypes\"] = X[fet].gt(0).sum(axis=1)\n",
    "\n",
    "\n",
    "# Check your answer\n",
    "q_3.check()"
   ]
  },
  {
   "cell_type": "code",
   "execution_count": 7,
   "id": "2d1cab09",
   "metadata": {
    "execution": {
     "iopub.execute_input": "2022-06-30T16:53:20.128447Z",
     "iopub.status.busy": "2022-06-30T16:53:20.127238Z",
     "iopub.status.idle": "2022-06-30T16:53:20.134174Z",
     "shell.execute_reply": "2022-06-30T16:53:20.132476Z"
    },
    "lines_to_next_cell": 0,
    "papermill": {
     "duration": 0.01886,
     "end_time": "2022-06-30T16:53:20.137045",
     "exception": false,
     "start_time": "2022-06-30T16:53:20.118185",
     "status": "completed"
    },
    "tags": []
   },
   "outputs": [],
   "source": [
    "# Lines below will give you a hint or solution code\n",
    "#q_3.hint()\n",
    "#q_3.solution()"
   ]
  },
  {
   "cell_type": "markdown",
   "id": "eedde3e3",
   "metadata": {
    "papermill": {
     "duration": 0.006937,
     "end_time": "2022-06-30T16:53:20.151503",
     "exception": false,
     "start_time": "2022-06-30T16:53:20.144566",
     "status": "completed"
    },
    "tags": []
   },
   "source": [
    "# 4) Break Down a Categorical Feature\n",
    "\n",
    "`MSSubClass` describes the type of a dwelling:"
   ]
  },
  {
   "cell_type": "code",
   "execution_count": 8,
   "id": "e0f79b69",
   "metadata": {
    "execution": {
     "iopub.execute_input": "2022-06-30T16:53:20.168709Z",
     "iopub.status.busy": "2022-06-30T16:53:20.167593Z",
     "iopub.status.idle": "2022-06-30T16:53:20.177753Z",
     "shell.execute_reply": "2022-06-30T16:53:20.176296Z"
    },
    "papermill": {
     "duration": 0.021522,
     "end_time": "2022-06-30T16:53:20.180333",
     "exception": false,
     "start_time": "2022-06-30T16:53:20.158811",
     "status": "completed"
    },
    "tags": []
   },
   "outputs": [
    {
     "data": {
      "text/plain": [
       "array(['One_Story_1946_and_Newer_All_Styles', 'Two_Story_1946_and_Newer',\n",
       "       'One_Story_PUD_1946_and_Newer',\n",
       "       'One_and_Half_Story_Finished_All_Ages', 'Split_Foyer',\n",
       "       'Two_Story_PUD_1946_and_Newer', 'Split_or_Multilevel',\n",
       "       'One_Story_1945_and_Older', 'Duplex_All_Styles_and_Ages',\n",
       "       'Two_Family_conversion_All_Styles_and_Ages',\n",
       "       'One_and_Half_Story_Unfinished_All_Ages',\n",
       "       'Two_Story_1945_and_Older', 'Two_and_Half_Story_All_Ages',\n",
       "       'One_Story_with_Finished_Attic_All_Ages',\n",
       "       'PUD_Multilevel_Split_Level_Foyer',\n",
       "       'One_and_Half_Story_PUD_All_Ages'], dtype=object)"
      ]
     },
     "execution_count": 8,
     "metadata": {},
     "output_type": "execute_result"
    }
   ],
   "source": [
    "df.MSSubClass.unique()"
   ]
  },
  {
   "cell_type": "markdown",
   "id": "6aada37f",
   "metadata": {
    "papermill": {
     "duration": 0.007001,
     "end_time": "2022-06-30T16:53:20.194631",
     "exception": false,
     "start_time": "2022-06-30T16:53:20.187630",
     "status": "completed"
    },
    "tags": []
   },
   "source": [
    "You can see that there is a more general categorization described (roughly) by the first word of each category. Create a feature containing only these first words by splitting `MSSubClass` at the first underscore `_`. (Hint: In the `split` method use an argument `n=1`.)"
   ]
  },
  {
   "cell_type": "code",
   "execution_count": 9,
   "id": "2e973fb4",
   "metadata": {
    "execution": {
     "iopub.execute_input": "2022-06-30T16:53:20.212329Z",
     "iopub.status.busy": "2022-06-30T16:53:20.211849Z",
     "iopub.status.idle": "2022-06-30T16:53:20.243405Z",
     "shell.execute_reply": "2022-06-30T16:53:20.241500Z"
    },
    "lines_to_next_cell": 0,
    "papermill": {
     "duration": 0.043593,
     "end_time": "2022-06-30T16:53:20.246366",
     "exception": false,
     "start_time": "2022-06-30T16:53:20.202773",
     "status": "completed"
    },
    "tags": []
   },
   "outputs": [
    {
     "data": {
      "application/javascript": [
       "parent.postMessage({\"jupyterEvent\": \"custom.exercise_interaction\", \"data\": {\"outcomeType\": 1, \"valueTowardsCompletion\": 0.2, \"interactionType\": 1, \"questionType\": 2, \"questionId\": \"4_Q4\", \"learnToolsVersion\": \"0.3.4\", \"failureMessage\": \"\", \"exceptionClass\": \"\", \"trace\": \"\"}}, \"*\")"
      ],
      "text/plain": [
       "<IPython.core.display.Javascript object>"
      ]
     },
     "metadata": {},
     "output_type": "display_data"
    },
    {
     "data": {
      "text/markdown": [
       "<span style=\"color:#33cc33\">Correct</span>"
      ],
      "text/plain": [
       "Correct"
      ]
     },
     "metadata": {},
     "output_type": "display_data"
    }
   ],
   "source": [
    "X_4 = pd.DataFrame()\n",
    "\n",
    "# YOUR CODE HERE\n",
    "X_4['MSClass'] = X['MSSubClass'].str.split(\"_\", n=1, expand=True)[0]\n",
    "\n",
    "# Check your answer\n",
    "q_4.check()"
   ]
  },
  {
   "cell_type": "code",
   "execution_count": 10,
   "id": "d33b9962",
   "metadata": {
    "execution": {
     "iopub.execute_input": "2022-06-30T16:53:20.265881Z",
     "iopub.status.busy": "2022-06-30T16:53:20.265419Z",
     "iopub.status.idle": "2022-06-30T16:53:20.274491Z",
     "shell.execute_reply": "2022-06-30T16:53:20.273493Z"
    },
    "lines_to_next_cell": 0,
    "papermill": {
     "duration": 0.020885,
     "end_time": "2022-06-30T16:53:20.276890",
     "exception": false,
     "start_time": "2022-06-30T16:53:20.256005",
     "status": "completed"
    },
    "tags": []
   },
   "outputs": [
    {
     "data": {
      "application/javascript": [
       "parent.postMessage({\"jupyterEvent\": \"custom.exercise_interaction\", \"data\": {\"interactionType\": 2, \"questionType\": 2, \"questionId\": \"4_Q4\", \"learnToolsVersion\": \"0.3.4\", \"valueTowardsCompletion\": 0.0, \"failureMessage\": \"\", \"exceptionClass\": \"\", \"trace\": \"\", \"outcomeType\": 4}}, \"*\")"
      ],
      "text/plain": [
       "<IPython.core.display.Javascript object>"
      ]
     },
     "metadata": {},
     "output_type": "display_data"
    },
    {
     "data": {
      "text/markdown": [
       "<span style=\"color:#3366cc\">Hint:</span> Your code should look something like:\n",
       "```python\n",
       "X_4 = pd.DataFrame()\n",
       "\n",
       "X_4[\"MSClass\"] = df.____.str.____(____, n=1, expand=True)[____]\n",
       "```\n"
      ],
      "text/plain": [
       "Hint: Your code should look something like:\n",
       "```python\n",
       "X_4 = pd.DataFrame()\n",
       "\n",
       "X_4[\"MSClass\"] = df.____.str.____(____, n=1, expand=True)[____]\n",
       "```"
      ]
     },
     "metadata": {},
     "output_type": "display_data"
    }
   ],
   "source": [
    "# Lines below will give you a hint or solution code\n",
    "q_4.hint()\n",
    "#q_4.solution()"
   ]
  },
  {
   "cell_type": "markdown",
   "id": "34dd1f0e",
   "metadata": {
    "papermill": {
     "duration": 0.007682,
     "end_time": "2022-06-30T16:53:20.292634",
     "exception": false,
     "start_time": "2022-06-30T16:53:20.284952",
     "status": "completed"
    },
    "tags": []
   },
   "source": [
    "# 5) Use a Grouped Transform\n",
    "\n",
    "The value of a home often depends on how it compares to typical homes in its neighborhood. Create a feature `MedNhbdArea` that describes the *median* of `GrLivArea` grouped on `Neighborhood`."
   ]
  },
  {
   "cell_type": "code",
   "execution_count": 11,
   "id": "e139b6b8",
   "metadata": {
    "execution": {
     "iopub.execute_input": "2022-06-30T16:53:20.310660Z",
     "iopub.status.busy": "2022-06-30T16:53:20.310286Z",
     "iopub.status.idle": "2022-06-30T16:53:20.334963Z",
     "shell.execute_reply": "2022-06-30T16:53:20.333562Z"
    },
    "lines_to_next_cell": 0,
    "papermill": {
     "duration": 0.036552,
     "end_time": "2022-06-30T16:53:20.337252",
     "exception": false,
     "start_time": "2022-06-30T16:53:20.300700",
     "status": "completed"
    },
    "tags": []
   },
   "outputs": [
    {
     "data": {
      "application/javascript": [
       "parent.postMessage({\"jupyterEvent\": \"custom.exercise_interaction\", \"data\": {\"outcomeType\": 1, \"valueTowardsCompletion\": 0.2, \"interactionType\": 1, \"questionType\": 2, \"questionId\": \"5_Q5\", \"learnToolsVersion\": \"0.3.4\", \"failureMessage\": \"\", \"exceptionClass\": \"\", \"trace\": \"\"}}, \"*\")"
      ],
      "text/plain": [
       "<IPython.core.display.Javascript object>"
      ]
     },
     "metadata": {},
     "output_type": "display_data"
    },
    {
     "data": {
      "text/markdown": [
       "<span style=\"color:#33cc33\">Correct</span>"
      ],
      "text/plain": [
       "Correct"
      ]
     },
     "metadata": {},
     "output_type": "display_data"
    }
   ],
   "source": [
    "X_5 = pd.DataFrame()\n",
    "\n",
    "# YOUR CODE HERE\n",
    "X_5[\"MedNhbdArea\"] = X.groupby(\"Neighborhood\").GrLivArea.transform(\"median\")\n",
    "\n",
    "# Check your answer\n",
    "q_5.check()"
   ]
  },
  {
   "cell_type": "code",
   "execution_count": 12,
   "id": "95dc77f1",
   "metadata": {
    "execution": {
     "iopub.execute_input": "2022-06-30T16:53:20.356905Z",
     "iopub.status.busy": "2022-06-30T16:53:20.356190Z",
     "iopub.status.idle": "2022-06-30T16:53:20.360061Z",
     "shell.execute_reply": "2022-06-30T16:53:20.359211Z"
    },
    "lines_to_next_cell": 0,
    "papermill": {
     "duration": 0.016672,
     "end_time": "2022-06-30T16:53:20.362294",
     "exception": false,
     "start_time": "2022-06-30T16:53:20.345622",
     "status": "completed"
    },
    "tags": []
   },
   "outputs": [],
   "source": [
    "# Lines below will give you a hint or solution code\n",
    "#q_5.hint()\n",
    "#q_5.solution()"
   ]
  },
  {
   "cell_type": "markdown",
   "id": "84d2681f",
   "metadata": {
    "papermill": {
     "duration": 0.008294,
     "end_time": "2022-06-30T16:53:20.379378",
     "exception": false,
     "start_time": "2022-06-30T16:53:20.371084",
     "status": "completed"
    },
    "tags": []
   },
   "source": [
    "Now you've made your first new feature set! If you like, you can run the cell below to score the model with all of your new features added:"
   ]
  },
  {
   "cell_type": "code",
   "execution_count": 13,
   "id": "982e2685",
   "metadata": {
    "execution": {
     "iopub.execute_input": "2022-06-30T16:53:20.398919Z",
     "iopub.status.busy": "2022-06-30T16:53:20.398130Z",
     "iopub.status.idle": "2022-06-30T16:53:25.492996Z",
     "shell.execute_reply": "2022-06-30T16:53:25.491766Z"
    },
    "papermill": {
     "duration": 5.107848,
     "end_time": "2022-06-30T16:53:25.495767",
     "exception": false,
     "start_time": "2022-06-30T16:53:20.387919",
     "status": "completed"
    },
    "tags": []
   },
   "outputs": [
    {
     "data": {
      "text/plain": [
       "0.13847331710099203"
      ]
     },
     "execution_count": 13,
     "metadata": {},
     "output_type": "execute_result"
    }
   ],
   "source": [
    "X_new = X.join([X_1, X_2, X_3, X_4, X_5])\n",
    "score_dataset(X_new, y)"
   ]
  },
  {
   "cell_type": "markdown",
   "id": "0b11cee4",
   "metadata": {
    "papermill": {
     "duration": 0.008144,
     "end_time": "2022-06-30T16:53:25.513431",
     "exception": false,
     "start_time": "2022-06-30T16:53:25.505287",
     "status": "completed"
    },
    "tags": []
   },
   "source": [
    "# Keep Going #\n",
    "\n",
    "[**Untangle spatial relationships**](https://www.kaggle.com/ryanholbrook/clustering-with-k-means) by adding cluster labels to your dataset."
   ]
  },
  {
   "cell_type": "markdown",
   "id": "e7747760",
   "metadata": {
    "papermill": {
     "duration": 0.008168,
     "end_time": "2022-06-30T16:53:25.530717",
     "exception": false,
     "start_time": "2022-06-30T16:53:25.522549",
     "status": "completed"
    },
    "tags": []
   },
   "source": [
    "---\n",
    "\n",
    "\n",
    "\n",
    "\n",
    "*Have questions or comments? Visit the [course discussion forum](https://www.kaggle.com/learn/feature-engineering/discussion) to chat with other learners.*"
   ]
  }
 ],
 "metadata": {
  "kernelspec": {
   "display_name": "Python 3",
   "language": "python",
   "name": "python3"
  },
  "language_info": {
   "codemirror_mode": {
    "name": "ipython",
    "version": 3
   },
   "file_extension": ".py",
   "mimetype": "text/x-python",
   "name": "python",
   "nbconvert_exporter": "python",
   "pygments_lexer": "ipython3",
   "version": "3.7.12"
  },
  "papermill": {
   "default_parameters": {},
   "duration": 20.46873,
   "end_time": "2022-06-30T16:53:26.564971",
   "environment_variables": {},
   "exception": null,
   "input_path": "__notebook__.ipynb",
   "output_path": "__notebook__.ipynb",
   "parameters": {},
   "start_time": "2022-06-30T16:53:06.096241",
   "version": "2.3.4"
  }
 },
 "nbformat": 4,
 "nbformat_minor": 5
}
