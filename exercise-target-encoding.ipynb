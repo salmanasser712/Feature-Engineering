{
 "cells": [
  {
   "cell_type": "markdown",
   "id": "0e60b344",
   "metadata": {
    "papermill": {
     "duration": 0.006201,
     "end_time": "2022-06-30T23:08:36.176934",
     "exception": false,
     "start_time": "2022-06-30T23:08:36.170733",
     "status": "completed"
    },
    "tags": []
   },
   "source": [
    "**This notebook is an exercise in the [Feature Engineering](https://www.kaggle.com/learn/feature-engineering) course.  You can reference the tutorial at [this link](https://www.kaggle.com/ryanholbrook/target-encoding).**\n",
    "\n",
    "---\n"
   ]
  },
  {
   "cell_type": "markdown",
   "id": "d24d5158",
   "metadata": {
    "papermill": {
     "duration": 0.004752,
     "end_time": "2022-06-30T23:08:36.187184",
     "exception": false,
     "start_time": "2022-06-30T23:08:36.182432",
     "status": "completed"
    },
    "tags": []
   },
   "source": [
    "# Introduction #\n",
    "\n",
    "In this exercise, you'll apply target encoding to features in the [*Ames*](https://www.kaggle.com/c/house-prices-advanced-regression-techniques/data) dataset.\n",
    "\n",
    "Run this cell to set everything up!"
   ]
  },
  {
   "cell_type": "code",
   "execution_count": 1,
   "id": "0cd35cfb",
   "metadata": {
    "execution": {
     "iopub.execute_input": "2022-06-30T23:08:36.200787Z",
     "iopub.status.busy": "2022-06-30T23:08:36.199430Z",
     "iopub.status.idle": "2022-06-30T23:08:38.157147Z",
     "shell.execute_reply": "2022-06-30T23:08:38.155722Z"
    },
    "papermill": {
     "duration": 1.967672,
     "end_time": "2022-06-30T23:08:38.160213",
     "exception": false,
     "start_time": "2022-06-30T23:08:36.192541",
     "status": "completed"
    },
    "tags": []
   },
   "outputs": [],
   "source": [
    "# Setup feedback system\n",
    "from learntools.core import binder\n",
    "binder.bind(globals())\n",
    "from learntools.feature_engineering_new.ex6 import *\n",
    "\n",
    "import matplotlib.pyplot as plt\n",
    "import numpy as np\n",
    "import pandas as pd\n",
    "import seaborn as sns\n",
    "import warnings\n",
    "from category_encoders import MEstimateEncoder\n",
    "from sklearn.model_selection import cross_val_score\n",
    "from xgboost import XGBRegressor\n",
    "\n",
    "# Set Matplotlib defaults\n",
    "plt.style.use(\"seaborn-whitegrid\")\n",
    "plt.rc(\"figure\", autolayout=True)\n",
    "plt.rc(\n",
    "    \"axes\",\n",
    "    labelweight=\"bold\",\n",
    "    labelsize=\"large\",\n",
    "    titleweight=\"bold\",\n",
    "    titlesize=14,\n",
    "    titlepad=10,\n",
    ")\n",
    "warnings.filterwarnings('ignore')\n",
    "\n",
    "\n",
    "def score_dataset(X, y, model=XGBRegressor()):\n",
    "    # Label encoding for categoricals\n",
    "    for colname in X.select_dtypes([\"category\", \"object\"]):\n",
    "        X[colname], _ = X[colname].factorize()\n",
    "    # Metric for Housing competition is RMSLE (Root Mean Squared Log Error)\n",
    "    score = cross_val_score(\n",
    "        model, X, y, cv=5, scoring=\"neg_mean_squared_log_error\",\n",
    "    )\n",
    "    score = -1 * score.mean()\n",
    "    score = np.sqrt(score)\n",
    "    return score\n",
    "\n",
    "\n",
    "df = pd.read_csv(\"../input/fe-course-data/ames.csv\")"
   ]
  },
  {
   "cell_type": "markdown",
   "id": "14ba5af2",
   "metadata": {
    "papermill": {
     "duration": 0.004975,
     "end_time": "2022-06-30T23:08:38.170297",
     "exception": false,
     "start_time": "2022-06-30T23:08:38.165322",
     "status": "completed"
    },
    "tags": []
   },
   "source": [
    "-------------------------------------------------------------------------------\n",
    "\n",
    "First you'll need to choose which features you want to apply a target encoding to. Categorical features with a large number of categories are often good candidates. Run this cell to see how many categories each categorical feature in the *Ames* dataset has."
   ]
  },
  {
   "cell_type": "code",
   "execution_count": 2,
   "id": "54577206",
   "metadata": {
    "execution": {
     "iopub.execute_input": "2022-06-30T23:08:38.182914Z",
     "iopub.status.busy": "2022-06-30T23:08:38.182525Z",
     "iopub.status.idle": "2022-06-30T23:08:38.219461Z",
     "shell.execute_reply": "2022-06-30T23:08:38.218207Z"
    },
    "papermill": {
     "duration": 0.047924,
     "end_time": "2022-06-30T23:08:38.223760",
     "exception": false,
     "start_time": "2022-06-30T23:08:38.175836",
     "status": "completed"
    },
    "tags": []
   },
   "outputs": [
    {
     "data": {
      "text/plain": [
       "MSSubClass       16\n",
       "MSZoning          7\n",
       "Street            2\n",
       "Alley             3\n",
       "LotShape          4\n",
       "LandContour       4\n",
       "Utilities         3\n",
       "LotConfig         5\n",
       "LandSlope         3\n",
       "Neighborhood     28\n",
       "Condition1        9\n",
       "Condition2        8\n",
       "BldgType          5\n",
       "HouseStyle        8\n",
       "OverallQual      10\n",
       "OverallCond       9\n",
       "RoofStyle         6\n",
       "RoofMatl          8\n",
       "Exterior1st      16\n",
       "Exterior2nd      17\n",
       "MasVnrType        5\n",
       "ExterQual         4\n",
       "ExterCond         5\n",
       "Foundation        6\n",
       "BsmtQual          6\n",
       "BsmtCond          6\n",
       "BsmtExposure      5\n",
       "BsmtFinType1      7\n",
       "BsmtFinType2      7\n",
       "Heating           6\n",
       "HeatingQC         5\n",
       "CentralAir        2\n",
       "Electrical        6\n",
       "KitchenQual       5\n",
       "Functional        8\n",
       "FireplaceQu       6\n",
       "GarageType        7\n",
       "GarageFinish      4\n",
       "GarageQual        6\n",
       "GarageCond        6\n",
       "PavedDrive        3\n",
       "PoolQC            5\n",
       "Fence             5\n",
       "MiscFeature       6\n",
       "SaleType         10\n",
       "SaleCondition     6\n",
       "dtype: int64"
      ]
     },
     "execution_count": 2,
     "metadata": {},
     "output_type": "execute_result"
    }
   ],
   "source": [
    "df.select_dtypes([\"object\"]).nunique()"
   ]
  },
  {
   "cell_type": "markdown",
   "id": "66a5d038",
   "metadata": {
    "papermill": {
     "duration": 0.004867,
     "end_time": "2022-06-30T23:08:38.234344",
     "exception": false,
     "start_time": "2022-06-30T23:08:38.229477",
     "status": "completed"
    },
    "tags": []
   },
   "source": [
    "We talked about how the M-estimate encoding uses smoothing to improve estimates for rare categories. To see how many times a category occurs in the dataset, you can use the `value_counts` method. This cell shows the counts for `SaleType`, but you might want to consider others as well."
   ]
  },
  {
   "cell_type": "code",
   "execution_count": 3,
   "id": "89a42e9c",
   "metadata": {
    "execution": {
     "iopub.execute_input": "2022-06-30T23:08:38.247175Z",
     "iopub.status.busy": "2022-06-30T23:08:38.246412Z",
     "iopub.status.idle": "2022-06-30T23:08:38.258620Z",
     "shell.execute_reply": "2022-06-30T23:08:38.257453Z"
    },
    "papermill": {
     "duration": 0.021398,
     "end_time": "2022-06-30T23:08:38.261063",
     "exception": false,
     "start_time": "2022-06-30T23:08:38.239665",
     "status": "completed"
    },
    "tags": []
   },
   "outputs": [
    {
     "data": {
      "text/plain": [
       "WD       2536\n",
       "New       239\n",
       "COD        87\n",
       "ConLD      26\n",
       "CWD        12\n",
       "ConLI       9\n",
       "ConLw       8\n",
       "Oth         7\n",
       "Con         5\n",
       "VWD         1\n",
       "Name: SaleType, dtype: int64"
      ]
     },
     "execution_count": 3,
     "metadata": {},
     "output_type": "execute_result"
    }
   ],
   "source": [
    "df[\"SaleType\"].value_counts()"
   ]
  },
  {
   "cell_type": "markdown",
   "id": "ee97b206",
   "metadata": {
    "papermill": {
     "duration": 0.004943,
     "end_time": "2022-06-30T23:08:38.271261",
     "exception": false,
     "start_time": "2022-06-30T23:08:38.266318",
     "status": "completed"
    },
    "tags": []
   },
   "source": [
    "# 1) Choose Features for Encoding\n",
    "\n",
    "Which features did you identify for target encoding? After you've thought about your answer, run the next cell for some discussion."
   ]
  },
  {
   "cell_type": "code",
   "execution_count": 4,
   "id": "aa323691",
   "metadata": {
    "execution": {
     "iopub.execute_input": "2022-06-30T23:08:38.284176Z",
     "iopub.status.busy": "2022-06-30T23:08:38.283408Z",
     "iopub.status.idle": "2022-06-30T23:08:38.293852Z",
     "shell.execute_reply": "2022-06-30T23:08:38.291908Z"
    },
    "papermill": {
     "duration": 0.019802,
     "end_time": "2022-06-30T23:08:38.296515",
     "exception": false,
     "start_time": "2022-06-30T23:08:38.276713",
     "status": "completed"
    },
    "tags": []
   },
   "outputs": [
    {
     "data": {
      "application/javascript": [
       "parent.postMessage({\"jupyterEvent\": \"custom.exercise_interaction\", \"data\": {\"outcomeType\": 1, \"valueTowardsCompletion\": 0.3333333333333333, \"interactionType\": 1, \"questionType\": 4, \"questionId\": \"1_Q1\", \"learnToolsVersion\": \"0.3.4\", \"failureMessage\": \"\", \"exceptionClass\": \"\", \"trace\": \"\"}}, \"*\")"
      ],
      "text/plain": [
       "<IPython.core.display.Javascript object>"
      ]
     },
     "metadata": {},
     "output_type": "display_data"
    },
    {
     "data": {
      "text/markdown": [
       "<span style=\"color:#33cc33\">Correct:</span> \n",
       "\n",
       " The `Neighborhood` feature looks promising. It has the most categories of any feature, and several categories are rare. Others that could be worth considering are `SaleType`, `MSSubClass`, `Exterior1st`, `Exterior2nd`. In fact, almost any of the nominal features would be worth trying because of the prevalence of rare categories."
      ],
      "text/plain": [
       "Correct: \n",
       "\n",
       " The `Neighborhood` feature looks promising. It has the most categories of any feature, and several categories are rare. Others that could be worth considering are `SaleType`, `MSSubClass`, `Exterior1st`, `Exterior2nd`. In fact, almost any of the nominal features would be worth trying because of the prevalence of rare categories."
      ]
     },
     "metadata": {},
     "output_type": "display_data"
    }
   ],
   "source": [
    "# View the solution (Run this cell to receive credit!)\n",
    "q_1.check()"
   ]
  },
  {
   "cell_type": "markdown",
   "id": "3edea9d5",
   "metadata": {
    "papermill": {
     "duration": 0.00502,
     "end_time": "2022-06-30T23:08:38.307156",
     "exception": false,
     "start_time": "2022-06-30T23:08:38.302136",
     "status": "completed"
    },
    "tags": []
   },
   "source": [
    "-------------------------------------------------------------------------------\n",
    "\n",
    "Now you'll apply a target encoding to your choice of feature. As we discussed in the tutorial, to avoid overfitting, we need to fit the encoder on data heldout from the training set. Run this cell to create the encoding and training splits:"
   ]
  },
  {
   "cell_type": "code",
   "execution_count": 5,
   "id": "8334f6a5",
   "metadata": {
    "execution": {
     "iopub.execute_input": "2022-06-30T23:08:38.319779Z",
     "iopub.status.busy": "2022-06-30T23:08:38.318793Z",
     "iopub.status.idle": "2022-06-30T23:08:38.331104Z",
     "shell.execute_reply": "2022-06-30T23:08:38.330327Z"
    },
    "lines_to_next_cell": 2,
    "papermill": {
     "duration": 0.020792,
     "end_time": "2022-06-30T23:08:38.333193",
     "exception": false,
     "start_time": "2022-06-30T23:08:38.312401",
     "status": "completed"
    },
    "tags": []
   },
   "outputs": [],
   "source": [
    "# Encoding split\n",
    "X_encode = df.sample(frac=0.20, random_state=0)\n",
    "y_encode = X_encode.pop(\"SalePrice\")\n",
    "\n",
    "# Training split\n",
    "X_pretrain = df.drop(X_encode.index)\n",
    "y_train = X_pretrain.pop(\"SalePrice\")"
   ]
  },
  {
   "cell_type": "markdown",
   "id": "a93a53d7",
   "metadata": {
    "papermill": {
     "duration": 0.005236,
     "end_time": "2022-06-30T23:08:38.344042",
     "exception": false,
     "start_time": "2022-06-30T23:08:38.338806",
     "status": "completed"
    },
    "tags": []
   },
   "source": [
    "# 2) Apply M-Estimate Encoding\n",
    "\n",
    "Apply a target encoding to your choice of categorical features. Also choose a value for the smoothing parameter `m` (any value is okay for a correct answer)."
   ]
  },
  {
   "cell_type": "code",
   "execution_count": 6,
   "id": "c03de242",
   "metadata": {
    "execution": {
     "iopub.execute_input": "2022-06-30T23:08:38.357230Z",
     "iopub.status.busy": "2022-06-30T23:08:38.356508Z",
     "iopub.status.idle": "2022-06-30T23:08:38.504894Z",
     "shell.execute_reply": "2022-06-30T23:08:38.503738Z"
    },
    "lines_to_next_cell": 0,
    "papermill": {
     "duration": 0.15772,
     "end_time": "2022-06-30T23:08:38.507230",
     "exception": false,
     "start_time": "2022-06-30T23:08:38.349510",
     "status": "completed"
    },
    "tags": []
   },
   "outputs": [
    {
     "data": {
      "application/javascript": [
       "parent.postMessage({\"jupyterEvent\": \"custom.exercise_interaction\", \"data\": {\"outcomeType\": 1, \"valueTowardsCompletion\": 0.3333333333333333, \"interactionType\": 1, \"questionType\": 2, \"questionId\": \"2_Q2\", \"learnToolsVersion\": \"0.3.4\", \"failureMessage\": \"\", \"exceptionClass\": \"\", \"trace\": \"\"}}, \"*\")"
      ],
      "text/plain": [
       "<IPython.core.display.Javascript object>"
      ]
     },
     "metadata": {},
     "output_type": "display_data"
    },
    {
     "data": {
      "text/markdown": [
       "<span style=\"color:#33cc33\">Correct</span>"
      ],
      "text/plain": [
       "Correct"
      ]
     },
     "metadata": {},
     "output_type": "display_data"
    }
   ],
   "source": [
    "from category_encoders import MEstimateEncoder\n",
    "\n",
    "# Choose a set of features to encode and a value for m\n",
    "encoder = MEstimateEncoder(cols=[\"Neighborhood\", \"MSSubClass\", \"Exterior1st\", \"Exterior2nd\"], m=7.0)\n",
    "\n",
    "\n",
    "# Fit the encoder on the encoding split\n",
    "encoder.fit(X_encode, y_encode)\n",
    "\n",
    "# Encode the training split\n",
    "X_train = encoder.transform(X_pretrain, y_train)\n",
    "\n",
    "\n",
    "# Check your answer\n",
    "q_2.check()"
   ]
  },
  {
   "cell_type": "code",
   "execution_count": 7,
   "id": "ea71de82",
   "metadata": {
    "execution": {
     "iopub.execute_input": "2022-06-30T23:08:38.521014Z",
     "iopub.status.busy": "2022-06-30T23:08:38.520267Z",
     "iopub.status.idle": "2022-06-30T23:08:38.524344Z",
     "shell.execute_reply": "2022-06-30T23:08:38.523440Z"
    },
    "lines_to_next_cell": 0,
    "papermill": {
     "duration": 0.013486,
     "end_time": "2022-06-30T23:08:38.526511",
     "exception": false,
     "start_time": "2022-06-30T23:08:38.513025",
     "status": "completed"
    },
    "tags": []
   },
   "outputs": [],
   "source": [
    "# Lines below will give you a hint or solution code\n",
    "#q_2.hint()\n",
    "#q_2.solution()"
   ]
  },
  {
   "cell_type": "markdown",
   "id": "709dd112",
   "metadata": {
    "papermill": {
     "duration": 0.005396,
     "end_time": "2022-06-30T23:08:38.537999",
     "exception": false,
     "start_time": "2022-06-30T23:08:38.532603",
     "status": "completed"
    },
    "tags": []
   },
   "source": [
    "If you'd like to see how the encoded feature compares to the target, you can run this cell:"
   ]
  },
  {
   "cell_type": "code",
   "execution_count": 8,
   "id": "46b4dc10",
   "metadata": {
    "execution": {
     "iopub.execute_input": "2022-06-30T23:08:38.551610Z",
     "iopub.status.busy": "2022-06-30T23:08:38.550975Z",
     "iopub.status.idle": "2022-06-30T23:08:38.926360Z",
     "shell.execute_reply": "2022-06-30T23:08:38.925464Z"
    },
    "papermill": {
     "duration": 0.384794,
     "end_time": "2022-06-30T23:08:38.928403",
     "exception": false,
     "start_time": "2022-06-30T23:08:38.543609",
     "status": "completed"
    },
    "tags": []
   },
   "outputs": [
    {
     "data": {
      "image/png": "[encoded data removed]",
      "text/plain": [
       "<Figure size 540x360 with 1 Axes>"
      ]
     },
     "metadata": {},
     "output_type": "display_data"
    }
   ],
   "source": [
    "feature = encoder.cols\n",
    "\n",
    "plt.figure(dpi=90)\n",
    "ax = sns.distplot(y_train, kde=True, hist=False)\n",
    "ax = sns.distplot(X_train[feature], color='r', ax=ax, hist=True, kde=False, norm_hist=True)\n",
    "ax.set_xlabel(\"SalePrice\");"
   ]
  },
  {
   "cell_type": "markdown",
   "id": "8bfc9ee4",
   "metadata": {
    "papermill": {
     "duration": 0.005941,
     "end_time": "2022-06-30T23:08:38.940443",
     "exception": false,
     "start_time": "2022-06-30T23:08:38.934502",
     "status": "completed"
    },
    "tags": []
   },
   "source": [
    "From the distribution plots, does it seem like the encoding is informative?\n",
    "\n",
    "And this cell will show you the score of the encoded set compared to the original set:"
   ]
  },
  {
   "cell_type": "code",
   "execution_count": 9,
   "id": "f7444c9a",
   "metadata": {
    "execution": {
     "iopub.execute_input": "2022-06-30T23:08:38.954991Z",
     "iopub.status.busy": "2022-06-30T23:08:38.954064Z",
     "iopub.status.idle": "2022-06-30T23:08:46.710799Z",
     "shell.execute_reply": "2022-06-30T23:08:46.709639Z"
    },
    "papermill": {
     "duration": 7.767,
     "end_time": "2022-06-30T23:08:46.713551",
     "exception": false,
     "start_time": "2022-06-30T23:08:38.946551",
     "status": "completed"
    },
    "tags": []
   },
   "outputs": [
    {
     "name": "stdout",
     "output_type": "stream",
     "text": [
      "Baseline Score: 0.1428 RMSLE\n",
      "Score with Encoding: 0.1418 RMSLE\n"
     ]
    }
   ],
   "source": [
    "X = df.copy()\n",
    "y = X.pop(\"SalePrice\")\n",
    "score_base = score_dataset(X, y)\n",
    "score_new = score_dataset(X_train, y_train)\n",
    "\n",
    "print(f\"Baseline Score: {score_base:.4f} RMSLE\")\n",
    "print(f\"Score with Encoding: {score_new:.4f} RMSLE\")"
   ]
  },
  {
   "cell_type": "markdown",
   "id": "e5e37b91",
   "metadata": {
    "papermill": {
     "duration": 0.005808,
     "end_time": "2022-06-30T23:08:46.725514",
     "exception": false,
     "start_time": "2022-06-30T23:08:46.719706",
     "status": "completed"
    },
    "tags": []
   },
   "source": [
    "Do you think that target encoding was worthwhile in this case? Depending on which feature or features you chose, you may have ended up with a score significantly worse than the baseline. In that case, it's likely the extra information gained by the encoding couldn't make up for the loss of data used for the encoding."
   ]
  },
  {
   "cell_type": "markdown",
   "id": "6923ec94",
   "metadata": {
    "papermill": {
     "duration": 0.006001,
     "end_time": "2022-06-30T23:08:46.737662",
     "exception": false,
     "start_time": "2022-06-30T23:08:46.731661",
     "status": "completed"
    },
    "tags": []
   },
   "source": [
    "-------------------------------------------------------------------------------\n",
    "\n",
    "In this question, you'll explore the problem of overfitting with target encodings. This will illustrate this importance of training fitting target encoders on data held-out from the training set.\n",
    "\n",
    "So let's see what happens when we fit the encoder and the model on the *same* dataset. To emphasize how dramatic the overfitting can be, we'll mean-encode a feature that should have no relationship with `SalePrice`, a count: `0, 1, 2, 3, 4, 5, ...`."
   ]
  },
  {
   "cell_type": "code",
   "execution_count": 10,
   "id": "f1b3a5b9",
   "metadata": {
    "execution": {
     "iopub.execute_input": "2022-06-30T23:08:46.751466Z",
     "iopub.status.busy": "2022-06-30T23:08:46.751039Z",
     "iopub.status.idle": "2022-06-30T23:08:51.052086Z",
     "shell.execute_reply": "2022-06-30T23:08:51.051093Z"
    },
    "papermill": {
     "duration": 4.310842,
     "end_time": "2022-06-30T23:08:51.054574",
     "exception": false,
     "start_time": "2022-06-30T23:08:46.743732",
     "status": "completed"
    },
    "tags": []
   },
   "outputs": [
    {
     "name": "stdout",
     "output_type": "stream",
     "text": [
      "Score: 0.0303 RMSLE\n"
     ]
    }
   ],
   "source": [
    "# Try experimenting with the smoothing parameter m\n",
    "# Try 0, 1, 5, 50\n",
    "m = 50\n",
    "\n",
    "X = df.copy()\n",
    "y = X.pop('SalePrice')\n",
    "\n",
    "# Create an uninformative feature\n",
    "X[\"Count\"] = range(len(X))\n",
    "X[\"Count\"][1] = 0  # actually need one duplicate value to circumvent error-checking in MEstimateEncoder\n",
    "\n",
    "# fit and transform on the same dataset\n",
    "encoder = MEstimateEncoder(cols=\"Count\", m=m)\n",
    "X = encoder.fit_transform(X, y)\n",
    "\n",
    "# Results\n",
    "score =  score_dataset(X, y)\n",
    "print(f\"Score: {score:.4f} RMSLE\")"
   ]
  },
  {
   "cell_type": "markdown",
   "id": "e0e6b567",
   "metadata": {
    "papermill": {
     "duration": 0.006089,
     "end_time": "2022-06-30T23:08:51.068198",
     "exception": false,
     "start_time": "2022-06-30T23:08:51.062109",
     "status": "completed"
    },
    "tags": []
   },
   "source": [
    "Almost a perfect score!"
   ]
  },
  {
   "cell_type": "code",
   "execution_count": 11,
   "id": "d20729d2",
   "metadata": {
    "execution": {
     "iopub.execute_input": "2022-06-30T23:08:51.082858Z",
     "iopub.status.busy": "2022-06-30T23:08:51.082227Z",
     "iopub.status.idle": "2022-06-30T23:08:51.422324Z",
     "shell.execute_reply": "2022-06-30T23:08:51.421170Z"
    },
    "papermill": {
     "duration": 0.350229,
     "end_time": "2022-06-30T23:08:51.424658",
     "exception": false,
     "start_time": "2022-06-30T23:08:51.074429",
     "status": "completed"
    },
    "tags": []
   },
   "outputs": [
    {
     "data": {
      "image/png": "[encoded data removed]",
      "text/plain": [
       "<Figure size 540x360 with 1 Axes>"
      ]
     },
     "metadata": {},
     "output_type": "display_data"
    }
   ],
   "source": [
    "plt.figure(dpi=90)\n",
    "ax = sns.distplot(y, kde=True, hist=False)\n",
    "ax = sns.distplot(X[\"Count\"], color='r', ax=ax, hist=True, kde=False, norm_hist=True)\n",
    "ax.set_xlabel(\"SalePrice\");"
   ]
  },
  {
   "cell_type": "markdown",
   "id": "d7e86434",
   "metadata": {
    "papermill": {
     "duration": 0.006505,
     "end_time": "2022-06-30T23:08:51.437718",
     "exception": false,
     "start_time": "2022-06-30T23:08:51.431213",
     "status": "completed"
    },
    "tags": []
   },
   "source": [
    "And the distributions are almost exactly the same, too.\n",
    "\n",
    "# 3) Overfitting with Target Encoders\n",
    "\n",
    "Based on your understanding of how mean-encoding works, can you explain how XGBoost was able to get an almost a perfect fit after mean-encoding the count feature?"
   ]
  },
  {
   "cell_type": "code",
   "execution_count": 12,
   "id": "7dc79b59",
   "metadata": {
    "execution": {
     "iopub.execute_input": "2022-06-30T23:08:51.453245Z",
     "iopub.status.busy": "2022-06-30T23:08:51.451993Z",
     "iopub.status.idle": "2022-06-30T23:08:51.464480Z",
     "shell.execute_reply": "2022-06-30T23:08:51.463553Z"
    },
    "lines_to_next_cell": 0,
    "papermill": {
     "duration": 0.022856,
     "end_time": "2022-06-30T23:08:51.467049",
     "exception": false,
     "start_time": "2022-06-30T23:08:51.444193",
     "status": "completed"
    },
    "tags": []
   },
   "outputs": [
    {
     "data": {
      "application/javascript": [
       "parent.postMessage({\"jupyterEvent\": \"custom.exercise_interaction\", \"data\": {\"outcomeType\": 1, \"valueTowardsCompletion\": 0.3333333333333333, \"interactionType\": 1, \"questionType\": 4, \"questionId\": \"3_Q3\", \"learnToolsVersion\": \"0.3.4\", \"failureMessage\": \"\", \"exceptionClass\": \"\", \"trace\": \"\"}}, \"*\")"
      ],
      "text/plain": [
       "<IPython.core.display.Javascript object>"
      ]
     },
     "metadata": {},
     "output_type": "display_data"
    },
    {
     "data": {
      "text/markdown": [
       "<span style=\"color:#33cc33\">Correct:</span> \n",
       "\n",
       "\n",
       "Since `Count` never has any duplicate values, the mean-encoded `Count` is essentially an exact copy of the target. In other words, mean-encoding turned a completely meaningless feature into a perfect feature.\n",
       "\n",
       "Now, the only reason this worked is because we trained XGBoost on the same set we used to train the encoder. If we had used a hold-out set instead, none of this \"fake\" encoding would have transferred to the training data.\n",
       "\n",
       "The lesson is that when using a target encoder it's very important to use separate data sets for training the encoder and training the model. Otherwise the results can be very disappointing!\n"
      ],
      "text/plain": [
       "Correct: \n",
       "\n",
       "\n",
       "Since `Count` never has any duplicate values, the mean-encoded `Count` is essentially an exact copy of the target. In other words, mean-encoding turned a completely meaningless feature into a perfect feature.\n",
       "\n",
       "Now, the only reason this worked is because we trained XGBoost on the same set we used to train the encoder. If we had used a hold-out set instead, none of this \"fake\" encoding would have transferred to the training data.\n",
       "\n",
       "The lesson is that when using a target encoder it's very important to use separate data sets for training the encoder and training the model. Otherwise the results can be very disappointing!"
      ]
     },
     "metadata": {},
     "output_type": "display_data"
    }
   ],
   "source": [
    "# View the solution (Run this cell to receive credit!)\n",
    "q_3.check()"
   ]
  },
  {
   "cell_type": "code",
   "execution_count": 13,
   "id": "d510ad1e",
   "metadata": {
    "execution": {
     "iopub.execute_input": "2022-06-30T23:08:51.485293Z",
     "iopub.status.busy": "2022-06-30T23:08:51.484861Z",
     "iopub.status.idle": "2022-06-30T23:08:51.489492Z",
     "shell.execute_reply": "2022-06-30T23:08:51.488216Z"
    },
    "papermill": {
     "duration": 0.015491,
     "end_time": "2022-06-30T23:08:51.491574",
     "exception": false,
     "start_time": "2022-06-30T23:08:51.476083",
     "status": "completed"
    },
    "tags": []
   },
   "outputs": [],
   "source": [
    "# Uncomment this if you'd like a hint before seeing the answer\n",
    "#q_3.hint()"
   ]
  },
  {
   "cell_type": "markdown",
   "id": "811d01a2",
   "metadata": {
    "papermill": {
     "duration": 0.006727,
     "end_time": "2022-06-30T23:08:51.505636",
     "exception": false,
     "start_time": "2022-06-30T23:08:51.498909",
     "status": "completed"
    },
    "tags": []
   },
   "source": [
    "# The End #\n",
    "\n",
    "That's it for *Feature Engineering*! We hope you enjoyed your time with us.\n",
    "\n",
    "Now, are you ready to try out your new skills? Now would be a great time to join our [Housing Prices](https://www.kaggle.com/c/house-prices-advanced-regression-techniques) Getting Started competition. We've even prepared a [Bonus Lesson](https://www.kaggle.com/ryanholbrook/feature-engineering-for-house-prices) that collects all the work we've done together into a starter notebook.\n",
    "\n",
    "# References #\n",
    "Here are some great resources you might like to consult for more information. They all played a part in shaping this course:\n",
    "- *The Art of Feature Engineering*, a book by Pablo Duboue.\n",
    "- *An Empirical Analysis of Feature Engineering for Predictive Modeling*, an article by Jeff Heaton.\n",
    "- *Feature Engineering for Machine Learning*, a book by Alice Zheng and Amanda Casari. The tutorial on clustering was inspired by this excellent book.\n",
    "- *Feature Engineering and Selection*, a book by Max Kuhn and Kjell Johnson."
   ]
  },
  {
   "cell_type": "markdown",
   "id": "0daeb251",
   "metadata": {
    "papermill": {
     "duration": 0.006937,
     "end_time": "2022-06-30T23:08:51.519572",
     "exception": false,
     "start_time": "2022-06-30T23:08:51.512635",
     "status": "completed"
    },
    "tags": []
   },
   "source": [
    "---\n",
    "\n",
    "\n",
    "\n",
    "\n",
    "*Have questions or comments? Visit the [course discussion forum](https://www.kaggle.com/learn/feature-engineering/discussion) to chat with other learners.*"
   ]
  }
 ],
 "metadata": {
  "kernelspec": {
   "display_name": "Python 3",
   "language": "python",
   "name": "python3"
  },
  "language_info": {
   "codemirror_mode": {
    "name": "ipython",
    "version": 3
   },
   "file_extension": ".py",
   "mimetype": "text/x-python",
   "name": "python",
   "nbconvert_exporter": "python",
   "pygments_lexer": "ipython3",
   "version": "3.7.12"
  },
  "papermill": {
   "default_parameters": {},
   "duration": 25.73882,
   "end_time": "2022-06-30T23:08:52.348539",
   "environment_variables": {},
   "exception": null,
   "input_path": "__notebook__.ipynb",
   "output_path": "__notebook__.ipynb",
   "parameters": {},
   "start_time": "2022-06-30T23:08:26.609719",
   "version": "2.3.4"
  }
 },
 "nbformat": 4,
 "nbformat_minor": 5
}
